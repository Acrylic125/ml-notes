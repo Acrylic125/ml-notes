{
 "cells": [
  {
   "attachments": {},
   "cell_type": "markdown",
   "metadata": {},
   "source": [
    "# Lecture 1 - Types of ML Problems\n",
    "\n",
    "## Supervised Learning\n",
    "Supervised learning is when the data used to learn is 'labelled' with a corresponding output.\n",
    "\n",
    "### Regression\n",
    "Regression problems are based off of continuous data.\n",
    "\n",
    "For example,\n",
    "- Price\n",
    "- Weight\n",
    "- Temperature\n",
    "\n",
    "### Classification\n",
    "Classification problems are based off of discrete data, data that is of some number of possibilities.\n",
    "\n",
    "For example,\n",
    "- Yes/No\n",
    "- Type of fruit\n",
    "- Animal\n",
    "\n",
    "## Unsupervised Learning\n",
    "Unsupervised learning is when the data used to learn is not labelled with a corresponding output.\n",
    "\n",
    "### Clustering\n",
    "Clustering is when the data is grouped into clusters based on some similarity.\n",
    "\n",
    "For example,\n",
    "- Grouping people into groups based on their interests.\n",
    "- Grouping websites into groups based on their content.\n",
    "\n",
    "## Reinforcement Learning\n",
    "Reinforcement learning is a way to produce a result based on a reward system.\n",
    "\n",
    "For example,\n",
    "- A robot that learns to navigate a maze based on the reward of getting to the end of the maze.\n",
    "- A computer that learns to play a game based on the reward of winning the game.\n"
   ]
  }
 ],
 "metadata": {
  "kernelspec": {
   "display_name": "py3_10",
   "language": "python",
   "name": "python3"
  },
  "language_info": {
   "name": "python",
   "version": "3.10.9 (main, Jan 11 2023, 15:21:40) [GCC 11.2.0]"
  },
  "orig_nbformat": 4,
  "vscode": {
   "interpreter": {
    "hash": "f4b8989ac986c7ea796f7af66d08683dc62d8031d90bf6de42b490c99542a32e"
   }
  }
 },
 "nbformat": 4,
 "nbformat_minor": 2
}
